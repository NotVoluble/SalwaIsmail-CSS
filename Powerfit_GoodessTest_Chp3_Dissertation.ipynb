{
  "nbformat": 4,
  "nbformat_minor": 0,
  "metadata": {
    "colab": {
      "provenance": []
    },
    "kernelspec": {
      "name": "python3",
      "display_name": "Python 3"
    },
    "language_info": {
      "name": "python"
    }
  },
  "cells": [
    {
      "cell_type": "code",
      "execution_count": null,
      "metadata": {
        "colab": {
          "base_uri": "https://localhost:8080/"
        },
        "id": "fdcMhzdad-p2",
        "outputId": "58c053e9-a44b-4d62-b2a6-02c555a28c32"
      },
      "outputs": [
        {
          "output_type": "stream",
          "name": "stdout",
          "text": [
            "Collecting powerlaw\n",
            "  Downloading powerlaw-1.5-py3-none-any.whl (24 kB)\n",
            "Requirement already satisfied: scipy in /usr/local/lib/python3.10/dist-packages (from powerlaw) (1.11.4)\n",
            "Requirement already satisfied: numpy in /usr/local/lib/python3.10/dist-packages (from powerlaw) (1.25.2)\n",
            "Requirement already satisfied: matplotlib in /usr/local/lib/python3.10/dist-packages (from powerlaw) (3.7.1)\n",
            "Requirement already satisfied: mpmath in /usr/local/lib/python3.10/dist-packages (from powerlaw) (1.3.0)\n",
            "Requirement already satisfied: contourpy>=1.0.1 in /usr/local/lib/python3.10/dist-packages (from matplotlib->powerlaw) (1.2.1)\n",
            "Requirement already satisfied: cycler>=0.10 in /usr/local/lib/python3.10/dist-packages (from matplotlib->powerlaw) (0.12.1)\n",
            "Requirement already satisfied: fonttools>=4.22.0 in /usr/local/lib/python3.10/dist-packages (from matplotlib->powerlaw) (4.53.0)\n",
            "Requirement already satisfied: kiwisolver>=1.0.1 in /usr/local/lib/python3.10/dist-packages (from matplotlib->powerlaw) (1.4.5)\n",
            "Requirement already satisfied: packaging>=20.0 in /usr/local/lib/python3.10/dist-packages (from matplotlib->powerlaw) (24.0)\n",
            "Requirement already satisfied: pillow>=6.2.0 in /usr/local/lib/python3.10/dist-packages (from matplotlib->powerlaw) (9.4.0)\n",
            "Requirement already satisfied: pyparsing>=2.3.1 in /usr/local/lib/python3.10/dist-packages (from matplotlib->powerlaw) (3.1.2)\n",
            "Requirement already satisfied: python-dateutil>=2.7 in /usr/local/lib/python3.10/dist-packages (from matplotlib->powerlaw) (2.8.2)\n",
            "Requirement already satisfied: six>=1.5 in /usr/local/lib/python3.10/dist-packages (from python-dateutil>=2.7->matplotlib->powerlaw) (1.16.0)\n",
            "Installing collected packages: powerlaw\n",
            "Successfully installed powerlaw-1.5\n"
          ]
        }
      ],
      "source": [
        "!pip install powerlaw\n",
        "\n"
      ]
    },
    {
      "cell_type": "code",
      "source": [],
      "metadata": {
        "id": "REp9cyIDLITa"
      },
      "execution_count": null,
      "outputs": []
    },
    {
      "cell_type": "code",
      "source": [
        "import powerlaw\n"
      ],
      "metadata": {
        "id": "NJ36kZKreOmq"
      },
      "execution_count": null,
      "outputs": []
    },
    {
      "cell_type": "code",
      "source": [
        "import numpy as np\n"
      ],
      "metadata": {
        "id": "KaedplGVkS9W"
      },
      "execution_count": null,
      "outputs": []
    },
    {
      "cell_type": "code",
      "source": [
        "import pandas as pd"
      ],
      "metadata": {
        "id": "RQR0_wYqkloG"
      },
      "execution_count": null,
      "outputs": []
    },
    {
      "cell_type": "code",
      "source": [
        "# prompt: load test-powerlaw-fit.csv with pandas with header\n",
        "\n",
        "import pandas as pd\n",
        "df = pd.read_csv('test-powerlaw-fit.csv', header=None)\n"
      ],
      "metadata": {
        "id": "2EoNX8likxbX"
      },
      "execution_count": null,
      "outputs": []
    },
    {
      "cell_type": "code",
      "source": [
        "df.head()"
      ],
      "metadata": {
        "colab": {
          "base_uri": "https://localhost:8080/",
          "height": 206
        },
        "id": "w6evVnA8k4Om",
        "outputId": "0fe0aa6b-9bb0-4073-93b5-11c32e3db535"
      },
      "execution_count": null,
      "outputs": [
        {
          "output_type": "execute_result",
          "data": {
            "text/plain": [
              "        0\n",
              "0  34.541\n",
              "1  25.408\n",
              "2  24.203\n",
              "3  22.398\n",
              "4  22.153"
            ],
            "text/html": [
              "\n",
              "  <div id=\"df-f0866371-add1-4a9d-a710-87947be79e1e\" class=\"colab-df-container\">\n",
              "    <div>\n",
              "<style scoped>\n",
              "    .dataframe tbody tr th:only-of-type {\n",
              "        vertical-align: middle;\n",
              "    }\n",
              "\n",
              "    .dataframe tbody tr th {\n",
              "        vertical-align: top;\n",
              "    }\n",
              "\n",
              "    .dataframe thead th {\n",
              "        text-align: right;\n",
              "    }\n",
              "</style>\n",
              "<table border=\"1\" class=\"dataframe\">\n",
              "  <thead>\n",
              "    <tr style=\"text-align: right;\">\n",
              "      <th></th>\n",
              "      <th>0</th>\n",
              "    </tr>\n",
              "  </thead>\n",
              "  <tbody>\n",
              "    <tr>\n",
              "      <th>0</th>\n",
              "      <td>34.541</td>\n",
              "    </tr>\n",
              "    <tr>\n",
              "      <th>1</th>\n",
              "      <td>25.408</td>\n",
              "    </tr>\n",
              "    <tr>\n",
              "      <th>2</th>\n",
              "      <td>24.203</td>\n",
              "    </tr>\n",
              "    <tr>\n",
              "      <th>3</th>\n",
              "      <td>22.398</td>\n",
              "    </tr>\n",
              "    <tr>\n",
              "      <th>4</th>\n",
              "      <td>22.153</td>\n",
              "    </tr>\n",
              "  </tbody>\n",
              "</table>\n",
              "</div>\n",
              "    <div class=\"colab-df-buttons\">\n",
              "\n",
              "  <div class=\"colab-df-container\">\n",
              "    <button class=\"colab-df-convert\" onclick=\"convertToInteractive('df-f0866371-add1-4a9d-a710-87947be79e1e')\"\n",
              "            title=\"Convert this dataframe to an interactive table.\"\n",
              "            style=\"display:none;\">\n",
              "\n",
              "  <svg xmlns=\"http://www.w3.org/2000/svg\" height=\"24px\" viewBox=\"0 -960 960 960\">\n",
              "    <path d=\"M120-120v-720h720v720H120Zm60-500h600v-160H180v160Zm220 220h160v-160H400v160Zm0 220h160v-160H400v160ZM180-400h160v-160H180v160Zm440 0h160v-160H620v160ZM180-180h160v-160H180v160Zm440 0h160v-160H620v160Z\"/>\n",
              "  </svg>\n",
              "    </button>\n",
              "\n",
              "  <style>\n",
              "    .colab-df-container {\n",
              "      display:flex;\n",
              "      gap: 12px;\n",
              "    }\n",
              "\n",
              "    .colab-df-convert {\n",
              "      background-color: #E8F0FE;\n",
              "      border: none;\n",
              "      border-radius: 50%;\n",
              "      cursor: pointer;\n",
              "      display: none;\n",
              "      fill: #1967D2;\n",
              "      height: 32px;\n",
              "      padding: 0 0 0 0;\n",
              "      width: 32px;\n",
              "    }\n",
              "\n",
              "    .colab-df-convert:hover {\n",
              "      background-color: #E2EBFA;\n",
              "      box-shadow: 0px 1px 2px rgba(60, 64, 67, 0.3), 0px 1px 3px 1px rgba(60, 64, 67, 0.15);\n",
              "      fill: #174EA6;\n",
              "    }\n",
              "\n",
              "    .colab-df-buttons div {\n",
              "      margin-bottom: 4px;\n",
              "    }\n",
              "\n",
              "    [theme=dark] .colab-df-convert {\n",
              "      background-color: #3B4455;\n",
              "      fill: #D2E3FC;\n",
              "    }\n",
              "\n",
              "    [theme=dark] .colab-df-convert:hover {\n",
              "      background-color: #434B5C;\n",
              "      box-shadow: 0px 1px 3px 1px rgba(0, 0, 0, 0.15);\n",
              "      filter: drop-shadow(0px 1px 2px rgba(0, 0, 0, 0.3));\n",
              "      fill: #FFFFFF;\n",
              "    }\n",
              "  </style>\n",
              "\n",
              "    <script>\n",
              "      const buttonEl =\n",
              "        document.querySelector('#df-f0866371-add1-4a9d-a710-87947be79e1e button.colab-df-convert');\n",
              "      buttonEl.style.display =\n",
              "        google.colab.kernel.accessAllowed ? 'block' : 'none';\n",
              "\n",
              "      async function convertToInteractive(key) {\n",
              "        const element = document.querySelector('#df-f0866371-add1-4a9d-a710-87947be79e1e');\n",
              "        const dataTable =\n",
              "          await google.colab.kernel.invokeFunction('convertToInteractive',\n",
              "                                                    [key], {});\n",
              "        if (!dataTable) return;\n",
              "\n",
              "        const docLinkHtml = 'Like what you see? Visit the ' +\n",
              "          '<a target=\"_blank\" href=https://colab.research.google.com/notebooks/data_table.ipynb>data table notebook</a>'\n",
              "          + ' to learn more about interactive tables.';\n",
              "        element.innerHTML = '';\n",
              "        dataTable['output_type'] = 'display_data';\n",
              "        await google.colab.output.renderOutput(dataTable, element);\n",
              "        const docLink = document.createElement('div');\n",
              "        docLink.innerHTML = docLinkHtml;\n",
              "        element.appendChild(docLink);\n",
              "      }\n",
              "    </script>\n",
              "  </div>\n",
              "\n",
              "\n",
              "<div id=\"df-be1df147-1676-4be9-a98a-279551e450b6\">\n",
              "  <button class=\"colab-df-quickchart\" onclick=\"quickchart('df-be1df147-1676-4be9-a98a-279551e450b6')\"\n",
              "            title=\"Suggest charts\"\n",
              "            style=\"display:none;\">\n",
              "\n",
              "<svg xmlns=\"http://www.w3.org/2000/svg\" height=\"24px\"viewBox=\"0 0 24 24\"\n",
              "     width=\"24px\">\n",
              "    <g>\n",
              "        <path d=\"M19 3H5c-1.1 0-2 .9-2 2v14c0 1.1.9 2 2 2h14c1.1 0 2-.9 2-2V5c0-1.1-.9-2-2-2zM9 17H7v-7h2v7zm4 0h-2V7h2v10zm4 0h-2v-4h2v4z\"/>\n",
              "    </g>\n",
              "</svg>\n",
              "  </button>\n",
              "\n",
              "<style>\n",
              "  .colab-df-quickchart {\n",
              "      --bg-color: #E8F0FE;\n",
              "      --fill-color: #1967D2;\n",
              "      --hover-bg-color: #E2EBFA;\n",
              "      --hover-fill-color: #174EA6;\n",
              "      --disabled-fill-color: #AAA;\n",
              "      --disabled-bg-color: #DDD;\n",
              "  }\n",
              "\n",
              "  [theme=dark] .colab-df-quickchart {\n",
              "      --bg-color: #3B4455;\n",
              "      --fill-color: #D2E3FC;\n",
              "      --hover-bg-color: #434B5C;\n",
              "      --hover-fill-color: #FFFFFF;\n",
              "      --disabled-bg-color: #3B4455;\n",
              "      --disabled-fill-color: #666;\n",
              "  }\n",
              "\n",
              "  .colab-df-quickchart {\n",
              "    background-color: var(--bg-color);\n",
              "    border: none;\n",
              "    border-radius: 50%;\n",
              "    cursor: pointer;\n",
              "    display: none;\n",
              "    fill: var(--fill-color);\n",
              "    height: 32px;\n",
              "    padding: 0;\n",
              "    width: 32px;\n",
              "  }\n",
              "\n",
              "  .colab-df-quickchart:hover {\n",
              "    background-color: var(--hover-bg-color);\n",
              "    box-shadow: 0 1px 2px rgba(60, 64, 67, 0.3), 0 1px 3px 1px rgba(60, 64, 67, 0.15);\n",
              "    fill: var(--button-hover-fill-color);\n",
              "  }\n",
              "\n",
              "  .colab-df-quickchart-complete:disabled,\n",
              "  .colab-df-quickchart-complete:disabled:hover {\n",
              "    background-color: var(--disabled-bg-color);\n",
              "    fill: var(--disabled-fill-color);\n",
              "    box-shadow: none;\n",
              "  }\n",
              "\n",
              "  .colab-df-spinner {\n",
              "    border: 2px solid var(--fill-color);\n",
              "    border-color: transparent;\n",
              "    border-bottom-color: var(--fill-color);\n",
              "    animation:\n",
              "      spin 1s steps(1) infinite;\n",
              "  }\n",
              "\n",
              "  @keyframes spin {\n",
              "    0% {\n",
              "      border-color: transparent;\n",
              "      border-bottom-color: var(--fill-color);\n",
              "      border-left-color: var(--fill-color);\n",
              "    }\n",
              "    20% {\n",
              "      border-color: transparent;\n",
              "      border-left-color: var(--fill-color);\n",
              "      border-top-color: var(--fill-color);\n",
              "    }\n",
              "    30% {\n",
              "      border-color: transparent;\n",
              "      border-left-color: var(--fill-color);\n",
              "      border-top-color: var(--fill-color);\n",
              "      border-right-color: var(--fill-color);\n",
              "    }\n",
              "    40% {\n",
              "      border-color: transparent;\n",
              "      border-right-color: var(--fill-color);\n",
              "      border-top-color: var(--fill-color);\n",
              "    }\n",
              "    60% {\n",
              "      border-color: transparent;\n",
              "      border-right-color: var(--fill-color);\n",
              "    }\n",
              "    80% {\n",
              "      border-color: transparent;\n",
              "      border-right-color: var(--fill-color);\n",
              "      border-bottom-color: var(--fill-color);\n",
              "    }\n",
              "    90% {\n",
              "      border-color: transparent;\n",
              "      border-bottom-color: var(--fill-color);\n",
              "    }\n",
              "  }\n",
              "</style>\n",
              "\n",
              "  <script>\n",
              "    async function quickchart(key) {\n",
              "      const quickchartButtonEl =\n",
              "        document.querySelector('#' + key + ' button');\n",
              "      quickchartButtonEl.disabled = true;  // To prevent multiple clicks.\n",
              "      quickchartButtonEl.classList.add('colab-df-spinner');\n",
              "      try {\n",
              "        const charts = await google.colab.kernel.invokeFunction(\n",
              "            'suggestCharts', [key], {});\n",
              "      } catch (error) {\n",
              "        console.error('Error during call to suggestCharts:', error);\n",
              "      }\n",
              "      quickchartButtonEl.classList.remove('colab-df-spinner');\n",
              "      quickchartButtonEl.classList.add('colab-df-quickchart-complete');\n",
              "    }\n",
              "    (() => {\n",
              "      let quickchartButtonEl =\n",
              "        document.querySelector('#df-be1df147-1676-4be9-a98a-279551e450b6 button');\n",
              "      quickchartButtonEl.style.display =\n",
              "        google.colab.kernel.accessAllowed ? 'block' : 'none';\n",
              "    })();\n",
              "  </script>\n",
              "</div>\n",
              "\n",
              "    </div>\n",
              "  </div>\n"
            ],
            "application/vnd.google.colaboratory.intrinsic+json": {
              "type": "dataframe",
              "variable_name": "df",
              "summary": "{\n  \"name\": \"df\",\n  \"rows\": 100,\n  \"fields\": [\n    {\n      \"column\": 0,\n      \"properties\": {\n        \"dtype\": \"number\",\n        \"std\": 5.739124063835962,\n        \"min\": 0.909,\n        \"max\": 34.541,\n        \"num_unique_values\": 99,\n        \"samples\": [\n          1.472,\n          2.032,\n          0.958\n        ],\n        \"semantic_type\": \"\",\n        \"description\": \"\"\n      }\n    }\n  ]\n}"
            }
          },
          "metadata": {},
          "execution_count": 12
        }
      ]
    },
    {
      "cell_type": "code",
      "source": [
        "# prompt: convert df to numpy array\n",
        "\n",
        "df_array = df.to_numpy()\n",
        "df_array.shape"
      ],
      "metadata": {
        "colab": {
          "base_uri": "https://localhost:8080/"
        },
        "id": "hPmc3rHGloKq",
        "outputId": "f3f59be7-f146-4d88-f00d-e56d9e39dac8"
      },
      "execution_count": null,
      "outputs": [
        {
          "output_type": "execute_result",
          "data": {
            "text/plain": [
              "(100, 1)"
            ]
          },
          "metadata": {},
          "execution_count": 17
        }
      ]
    },
    {
      "cell_type": "code",
      "source": [
        "# prompt: select first column in df_array\n",
        "\n",
        "data_enroll = df_array[:, 0]\n",
        "data_enroll.shape\n"
      ],
      "metadata": {
        "colab": {
          "base_uri": "https://localhost:8080/"
        },
        "id": "C8IrJ9rxoJnR",
        "outputId": "8c29c2e3-ee88-4d32-8eaa-5b42e5963e81"
      },
      "execution_count": null,
      "outputs": [
        {
          "output_type": "execute_result",
          "data": {
            "text/plain": [
              "(100,)"
            ]
          },
          "metadata": {},
          "execution_count": 24
        }
      ]
    },
    {
      "cell_type": "code",
      "source": [
        "data_enroll"
      ],
      "metadata": {
        "colab": {
          "base_uri": "https://localhost:8080/"
        },
        "id": "A-HDjd18lmYp",
        "outputId": "551f41c8-b828-42d8-d628-33e959bbb0b7"
      },
      "execution_count": null,
      "outputs": [
        {
          "output_type": "execute_result",
          "data": {
            "text/plain": [
              "array([34.541, 25.408, 24.203, 22.398, 22.153, 13.182, 10.715, 10.54 ,\n",
              "        9.743,  9.648,  9.041,  8.374,  8.341,  7.001,  6.84 ,  6.462,\n",
              "        6.402,  5.852,  5.758,  5.324,  4.609,  4.474,  3.822,  3.602,\n",
              "        3.579,  3.525,  3.488,  3.381,  3.281,  2.968,  2.963,  2.89 ,\n",
              "        2.419,  2.291,  2.256,  2.255,  2.225,  2.19 ,  2.107,  2.064,\n",
              "        2.032,  1.986,  1.985,  1.928,  1.927,  1.844,  1.804,  1.784,\n",
              "        1.747,  1.709,  1.663,  1.655,  1.649,  1.639,  1.627,  1.586,\n",
              "        1.57 ,  1.563,  1.56 ,  1.52 ,  1.484,  1.475,  1.475,  1.472,\n",
              "        1.461,  1.46 ,  1.436,  1.384,  1.34 ,  1.262,  1.259,  1.221,\n",
              "        1.171,  1.166,  1.163,  1.157,  1.144,  1.142,  1.141,  1.139,\n",
              "        1.126,  1.121,  1.118,  1.1  ,  1.085,  1.084,  1.077,  1.064,\n",
              "        1.063,  1.053,  1.051,  1.017,  1.001,  0.999,  0.996,  0.969,\n",
              "        0.958,  0.936,  0.929,  0.909])"
            ]
          },
          "metadata": {},
          "execution_count": 25
        }
      ]
    },
    {
      "cell_type": "code",
      "source": [
        "# Read the CSV file with the specified delimiter and skip the header row\n",
        "data = np.genfromtxt('test-powerlaw-fit.csv', delimiter=',', skip_header=0)\n",
        "\n",
        "# Print the first 100 rows of the data\n",
        "print(data[0:100])"
      ],
      "metadata": {
        "colab": {
          "base_uri": "https://localhost:8080/"
        },
        "id": "QnyFNuiBmdj4",
        "outputId": "b0d8727d-7a2e-4d51-c7bc-4890ae0bfbde"
      },
      "execution_count": null,
      "outputs": [
        {
          "output_type": "stream",
          "name": "stdout",
          "text": [
            "[34.541 25.408 24.203 22.398 22.153 13.182 10.715 10.54   9.743  9.648\n",
            "  9.041  8.374  8.341  7.001  6.84   6.462  6.402  5.852  5.758  5.324\n",
            "  4.609  4.474  3.822  3.602  3.579  3.525  3.488  3.381  3.281  2.968\n",
            "  2.963  2.89   2.419  2.291  2.256  2.255  2.225  2.19   2.107  2.064\n",
            "  2.032  1.986  1.985  1.928  1.927  1.844  1.804  1.784  1.747  1.709\n",
            "  1.663  1.655  1.649  1.639  1.627  1.586  1.57   1.563  1.56   1.52\n",
            "  1.484  1.475  1.475  1.472  1.461  1.46   1.436  1.384  1.34   1.262\n",
            "  1.259  1.221  1.171  1.166  1.163  1.157  1.144  1.142  1.141  1.139\n",
            "  1.126  1.121  1.118  1.1    1.085  1.084  1.077  1.064  1.063  1.053\n",
            "  1.051  1.017  1.001  0.999  0.996  0.969  0.958  0.936  0.929  0.909]\n"
          ]
        }
      ]
    },
    {
      "cell_type": "code",
      "source": [
        "results = powerlaw.Fit(data)\n",
        "print(results.power_law.alpha)\n",
        "print(results.power_law.xmin)\n",
        "R, p = results.distribution_compare('power_law', 'lognormal')"
      ],
      "metadata": {
        "colab": {
          "base_uri": "https://localhost:8080/"
        },
        "id": "uTsRovqZm67K",
        "outputId": "d14385a6-b754-4d63-a1ae-1b10a9afefca"
      },
      "execution_count": null,
      "outputs": [
        {
          "output_type": "stream",
          "name": "stdout",
          "text": [
            "Calculating best minimal value for power law fit\n",
            "xmin progress: 00%\rxmin progress: 01%\rxmin progress: 02%\rxmin progress: 03%\rxmin progress: 04%\rxmin progress: 05%\rxmin progress: 06%\rxmin progress: 07%\rxmin progress: 08%\rxmin progress: 09%\rxmin progress: 10%\rxmin progress: 11%\rxmin progress: 12%\rxmin progress: 13%\rxmin progress: 14%\rxmin progress: 15%\rxmin progress: 16%\rxmin progress: 17%\rxmin progress: 18%\rxmin progress: 19%\rxmin progress: 20%\rxmin progress: 21%\rxmin progress: 22%\rxmin progress: 23%\rxmin progress: 24%\rxmin progress: 25%\rxmin progress: 26%\rxmin progress: 27%\rxmin progress: 28%\rxmin progress: 29%\rxmin progress: 30%\rxmin progress: 31%\rxmin progress: 32%\rxmin progress: 33%\rxmin progress: 34%\rxmin progress: 35%\rxmin progress: 36%\rxmin progress: 37%\rxmin progress: 38%\rxmin progress: 39%\rxmin progress: 40%\rxmin progress: 41%\rxmin progress: 42%\rxmin progress: 43%\rxmin progress: 44%\rxmin progress: 45%\rxmin progress: 46%\rxmin progress: 47%\rxmin progress: 48%\rxmin progress: 50%\rxmin progress: 51%\rxmin progress: 52%\rxmin progress: 53%\rxmin progress: 54%\rxmin progress: 55%\rxmin progress: 56%\rxmin progress: 57%\rxmin progress: 58%\rxmin progress: 59%\rxmin progress: 60%\rxmin progress: 61%\rxmin progress: 62%\rxmin progress: 63%\rxmin progress: 64%\rxmin progress: 65%\rxmin progress: 66%\rxmin progress: 67%\rxmin progress: 68%\rxmin progress: 69%\rxmin progress: 70%\rxmin progress: 71%\rxmin progress: 72%\rxmin progress: 73%\rxmin progress: 74%\rxmin progress: 75%\rxmin progress: 76%\rxmin progress: 77%\rxmin progress: 78%\rxmin progress: 79%\rxmin progress: 80%\rxmin progress: 81%\rxmin progress: 82%\rxmin progress: 83%\rxmin progress: 84%\rxmin progress: 85%\rxmin progress: 86%\rxmin progress: 87%\rxmin progress: 88%\rxmin progress: 89%\rxmin progress: 90%\rxmin progress: 91%\rxmin progress: 92%\rxmin progress: 93%\rxmin progress: 94%\rxmin progress: 95%\rxmin progress: 96%\rxmin progress: 97%\rxmin progress: 98%\r2.066973609129798\n",
            "0.929\n"
          ]
        }
      ]
    },
    {
      "cell_type": "code",
      "source": [
        "print(R)\n",
        "print(p)"
      ],
      "metadata": {
        "colab": {
          "base_uri": "https://localhost:8080/"
        },
        "id": "op9_47aUnHnJ",
        "outputId": "f4769945-a1e7-4e3e-a236-ae10a2ea4e66"
      },
      "execution_count": null,
      "outputs": [
        {
          "output_type": "stream",
          "name": "stdout",
          "text": [
            "-0.23667530731119046\n",
            "0.6118585159261043\n"
          ]
        }
      ]
    }
  ]
}